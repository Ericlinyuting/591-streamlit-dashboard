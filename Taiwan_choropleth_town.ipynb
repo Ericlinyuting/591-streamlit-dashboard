{
 "cells": [
  {
   "cell_type": "code",
   "execution_count": 2,
   "metadata": {},
   "outputs": [],
   "source": [
    "import matplotlib\n",
    "import matplotlib.pyplot as plt\n",
    "import numpy as np\n",
    "import pandas as pd\n",
    "import geopandas as gp \n",
    "import plotly.express as px\n",
    "import json\n",
    "from matplotlib.colors import Normalize"
   ]
  },
  {
   "cell_type": "code",
   "execution_count": 3,
   "metadata": {},
   "outputs": [],
   "source": [
    "#read shapefile\n",
    "townshp = gp.read_file(r\"asset/鄉鎮市區界線(TWD97經緯度)1120928/TOWN_MOI_1120825.shp\"\n",
    "                         ,encoding='UTF-8')#without encoding is ok! \n",
    "\n",
    "# 將shp檔案格式轉為geoJson檔案格式\n",
    "townshp.to_file('asset/鄉鎮市區界線(TWD97經緯度)1120928/TOWN_MOI_1120825.geojson', driver='GeoJSON', epsg=4326)  # 經緯度由epsg3826(TWD97)轉換為epsg4326(WGS84)"
   ]
  },
  {
   "cell_type": "code",
   "execution_count": null,
   "metadata": {},
   "outputs": [],
   "source": [
    "# 利用json模組，讀入geojson檔案：\n",
    "# 讀取geojson\n",
    "with open('asset/鄉鎮市區界線(TWD97經緯度)1120928/TOWN_MOI_1120825.geojson', encoding='utf8') as response:\n",
    "    mapGeo = json.load(response)\n",
    "\n",
    "# 觀察geojson資料狀況\n",
    "print(mapGeo['features'][0]['properties'])\n",
    "print(mapGeo['features'][1]['properties'])"
   ]
  },
  {
   "cell_type": "code",
   "execution_count": null,
   "metadata": {},
   "outputs": [],
   "source": [
    "# 制震宅資料整理\n",
    "ALL_data = pd.read_excel(\"asset/ALL_data.xlsx\")\n",
    "ALL_data.drop(\"Unnamed: 0\",axis=1,inplace=True)\n",
    "selling_cases = len(ALL_data)\n",
    "#ALL_data[\"制震宅\"]=ALL_data[\"制震宅\"].map({0:False,1:True,None:False})\n",
    "#AST_data = ALL_data[ALL_data[\"制震宅\"]]\n",
    "ALL_data[\"鄉鎮市區\"]=ALL_data[\"縣市\"]+ALL_data[\"區域\"]\n",
    "ALL_data"
   ]
  },
  {
   "cell_type": "code",
   "execution_count": null,
   "metadata": {},
   "outputs": [],
   "source": [
    "ALL_data[\"單價\"] = pd.to_numeric(ALL_data['單價'], errors='coerce')\n",
    "ALL_country_Price = ALL_data[ALL_data['單位'] == '萬/坪'].groupby('鄉鎮市區')['單價'].agg('mean').reset_index()\n",
    "ALL_country_Price[\"鄉鎮市區\"] = ALL_country_Price[\"鄉鎮市區\"].str.replace(\"台\", \"臺\")\n",
    "ALL_country_Price[\"單價\"] = round(ALL_country_Price[\"單價\"],1)\n",
    "\n",
    "#此處依據geojson檔案內記載的鄉鎮市區清單資訊，建立一個Pandas表格，待會要將此表做為主表，把價格資料併進來：\n",
    "# 依據圖資資料建立鄉鎮市區清單\n",
    "country_df = pd.DataFrame.from_dict([i['properties'] for i in mapGeo['features']])\n",
    "country_df[\"CityTown\"] = country_df[\"COUNTYNAME\"]+country_df[\"TOWNNAME\"]\n",
    "ALL_country_Price_table = pd.merge(country_df, ALL_country_Price, left_on='CityTown', right_on='鄉鎮市區', how='left')\n",
    "ALL_country_Price_table"
   ]
  },
  {
   "cell_type": "code",
   "execution_count": null,
   "metadata": {},
   "outputs": [],
   "source": [
    "# 繪製地坪單價地圖\n",
    "fig = px.choropleth_mapbox(ALL_country_Price_table,                                                # 資料表\n",
    "                           geojson=mapGeo,                                    # 地圖資訊\n",
    "                           locations='TOWNCODE',                           # df要對應geojson的id名稱\n",
    "                           featureidkey='properties.TOWNCODE',             # geojson對應df的id名稱\n",
    "                           color='單價',                                      # 顏色區分對象\n",
    "                           color_continuous_scale='Viridis',                  # 設定呈現的顏色\n",
    "                           range_color=(round(np.nanmin(ALL_country_Price_table['單價'])),    # 顏色的值域範圍\n",
    "                                        round(np.nanmax(ALL_country_Price_table['單價']))),   \n",
    "                           mapbox_style='carto-positron',                    # mapbox地圖格式\n",
    "                           zoom=6,                                           # 地圖縮放大小: 數字愈大放大程度愈大\n",
    "                           center={'lat': 23.5832, 'lon': 120.5825},         # 地圖中心位置: 此處設定台灣地理中心碑經緯度\n",
    "                           opacity=0.5,                                               # 設定顏色區塊的透明度 數值愈大愈不透明\n",
    "                           hover_data=['鄉鎮市區', \"單價\"]  # 設定游標指向資訊\n",
    "                          )\n",
    "fig.update_layout(margin={'r':0, 't':0, 'l':0, 'b':0})\n",
    "fig.show()"
   ]
  }
 ],
 "metadata": {
  "kernelspec": {
   "display_name": ".venv",
   "language": "python",
   "name": "python3"
  },
  "language_info": {
   "codemirror_mode": {
    "name": "ipython",
    "version": 3
   },
   "file_extension": ".py",
   "mimetype": "text/x-python",
   "name": "python",
   "nbconvert_exporter": "python",
   "pygments_lexer": "ipython3",
   "version": "3.9.12"
  }
 },
 "nbformat": 4,
 "nbformat_minor": 2
}
